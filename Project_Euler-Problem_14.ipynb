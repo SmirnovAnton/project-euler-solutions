{
 "cells": [
  {
   "cell_type": "code",
   "execution_count": 22,
   "metadata": {
    "collapsed": false
   },
   "outputs": [],
   "source": [
    "\"\"\"\n",
    "The following iterative sequence is defined for the set of positive integers:\n",
    "\n",
    "n → n/2 (n is even)\n",
    "n → 3n + 1 (n is odd)\n",
    "\n",
    "Using the rule above and starting with 13, we generate the following sequence:\n",
    "\n",
    "13 → 40 → 20 → 10 → 5 → 16 → 8 → 4 → 2 → 1\n",
    "It can be seen that this sequence (starting at 13 and finishing at 1) contains 10 terms. Although it has not been proved yet (Collatz Problem), it is thought that all starting numbers finish at 1.\n",
    "\n",
    "Which starting number, under one million, produces the longest chain?\n",
    "\n",
    "NOTE: Once the chain starts the terms are allowed to go above one million.\n",
    "\"\"\"\n",
    "\n",
    "def maxCollatzStart(maxNum):\n",
    "    \"\"\"Returns starting number below maxNum which produces longest Collatz chain.\"\"\"\n",
    "    maxCounter = 0\n",
    "    maxI = 0\n",
    "    for i in range(maxNum,-1,-1):\n",
    "        counter = 0\n",
    "        n = i\n",
    "        while n > 1:\n",
    "            counter = counter + 1\n",
    "            # print(n)\n",
    "            if n%2 == 0:\n",
    "                n = int(n/2)\n",
    "            else:\n",
    "                n = 3*n +1 \n",
    "        if counter > maxCounter:\n",
    "            maxCounter = counter\n",
    "            maxI = i\n",
    "    return maxI\n"
   ]
  },
  {
   "cell_type": "code",
   "execution_count": 24,
   "metadata": {
    "collapsed": false
   },
   "outputs": [
    {
     "data": {
      "text/plain": [
       "837799"
      ]
     },
     "execution_count": 24,
     "metadata": {},
     "output_type": "execute_result"
    }
   ],
   "source": [
    "maxCollatzStart(1000000)"
   ]
  }
 ],
 "metadata": {
  "kernelspec": {
   "display_name": "Python 3",
   "language": "python",
   "name": "python3"
  },
  "language_info": {
   "codemirror_mode": {
    "name": "ipython",
    "version": 3
   },
   "file_extension": ".py",
   "mimetype": "text/x-python",
   "name": "python",
   "nbconvert_exporter": "python",
   "pygments_lexer": "ipython3",
   "version": "3.5.1"
  }
 },
 "nbformat": 4,
 "nbformat_minor": 0
}
