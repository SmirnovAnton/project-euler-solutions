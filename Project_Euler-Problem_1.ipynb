{
 "cells": [
  {
   "cell_type": "markdown",
   "metadata": {
    "collapsed": true
   },
   "source": [
    "Ctrl-m h shows keyboard shortcuts"
   ]
  },
  {
   "cell_type": "code",
   "execution_count": 6,
   "metadata": {
    "collapsed": false
   },
   "outputs": [
    {
     "name": "stdout",
     "output_type": "stream",
     "text": [
      "The slowest run took 4.89 times longer than the fastest. This could mean that an intermediate result is being cached \n",
      "10000 loops, best of 3: 24.9 µs per loop\n"
     ]
    }
   ],
   "source": [
    "\"\"\"\n",
    "Problem 1\n",
    "=========\n",
    "\n",
    "\n",
    "   If we list all the natural numbers below 10 that are multiples of 3 or 5,\n",
    "   we get 3, 5, 6 and 9. The sum of these multiples is 23.\n",
    "\n",
    "   Find the sum of all the multiples of 3 or 5 below 1000.\n",
    "\"\"\"\n",
    "\n",
    "from itertools import *\n",
    "\n",
    "def project_euler_1(x, y, a, b):\n",
    "    \"\"\"Returns sum of multiples of a and b between x and y.\"\"\"\n",
    "    return sum(set(chain(range(x, y, a), range(x, y, b))))\n",
    "\n",
    "# project_euler_1(0, 1000, 3, 5)\n",
    "    \n",
    "# timeit project_euler_1(0,1000,3,5)\n",
    "\n",
    "# %prun project_euler_1(0,1000,3,5)"
   ]
  }
 ],
 "metadata": {
  "kernelspec": {
   "display_name": "Python 3",
   "language": "python",
   "name": "python3"
  },
  "language_info": {
   "codemirror_mode": {
    "name": "ipython",
    "version": 3
   },
   "file_extension": ".py",
   "mimetype": "text/x-python",
   "name": "python",
   "nbconvert_exporter": "python",
   "pygments_lexer": "ipython3",
   "version": "3.5.1"
  }
 },
 "nbformat": 4,
 "nbformat_minor": 0
}
