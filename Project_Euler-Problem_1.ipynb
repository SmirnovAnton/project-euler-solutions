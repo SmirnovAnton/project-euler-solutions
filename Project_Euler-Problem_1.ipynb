{
 "cells": [
  {
   "cell_type": "markdown",
   "metadata": {
    "collapsed": true
   },
   "source": [
    "Ctrl-m h shows keyboard shortcuts"
   ]
  },
  {
   "cell_type": "code",
   "execution_count": 1,
   "metadata": {
    "collapsed": false
   },
   "outputs": [],
   "source": [
    "import itertools\n",
    "\n",
    "def project_euler_1(x, y, a, b):\n",
    "    \"\"\"Returns sum of multiples of a and b between x and y.\"\"\"\n",
    "    return sum(set(chain(range(x, y, a), range(x, y, b))))\n",
    "\n",
    "# project_euler_1(0, 1000, 3, 5)\n",
    "    \n",
    "# %timeit project_euler_1(0,1000,3,5)\n",
    "\n",
    "# %prun project_euler_1(0,1000,3,5)"
   ]
  },
  {
   "cell_type": "code",
   "execution_count": null,
   "metadata": {
    "collapsed": true
   },
   "outputs": [],
   "source": []
  }
 ],
 "metadata": {
  "kernelspec": {
   "display_name": "Python 3",
   "language": "python",
   "name": "python3"
  },
  "language_info": {
   "codemirror_mode": {
    "name": "ipython",
    "version": 3
   },
   "file_extension": ".py",
   "mimetype": "text/x-python",
   "name": "python",
   "nbconvert_exporter": "python",
   "pygments_lexer": "ipython3",
   "version": "3.5.1"
  }
 },
 "nbformat": 4,
 "nbformat_minor": 0
}
