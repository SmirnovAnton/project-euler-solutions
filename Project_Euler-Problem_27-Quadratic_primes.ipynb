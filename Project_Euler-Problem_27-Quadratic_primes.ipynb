{
 "cells": [
  {
   "cell_type": "code",
   "execution_count": null,
   "metadata": {
    "collapsed": true
   },
   "outputs": [],
   "source": [
    "\"\"\"\n",
    "Euler discovered the remarkable quadratic formula:\n",
    "\n",
    "n² + n + 41\n",
    "\n",
    "It turns out that the formula will produce 40 primes for the consecutive values n = 0 to 39. \n",
    "However, when n = 40, 402 + 40 + 41 = 40(40 + 1) + 41 is divisible by 41, \n",
    "and certainly when n = 41, 41² + 41 + 41 is clearly divisible by 41.\n",
    "\n",
    "The incredible formula  n² − 79n + 1601 was discovered, which produces 80 primes for the \n",
    "consecutive values n = 0 to 79. The product of the coefficients, −79 and 1601, is −126479.\n",
    "\n",
    "Considering quadratics of the form:\n",
    "\n",
    "n² + an + b, where |a| < 1000 and |b| < 1000\n",
    "\n",
    "where |n| is the modulus/absolute value of n\n",
    "e.g. |11| = 11 and |−4| = 4\n",
    "Find the product of the coefficients, a and b, for the quadratic expression that produces the \n",
    "maximum number of primes for consecutive values of n, starting with n = 0.\n",
    "\"\"\""
   ]
  },
  {
   "cell_type": "code",
   "execution_count": 14,
   "metadata": {
    "collapsed": false
   },
   "outputs": [
    {
     "name": "stdout",
     "output_type": "stream",
     "text": [
      "(-61, 971)\n",
      "70\n",
      "1601\n",
      "-59231\n"
     ]
    }
   ],
   "source": [
    "import itertools\n",
    "from sympy.ntheory import isprime\n",
    "\n",
    "limit = 1000\n",
    "\n",
    "abcombos = list(itertools.product(range(-(limit - 1),limit), repeat = 2))\n",
    "\n",
    "n= 0\n",
    "maxab = (0,0)\n",
    "maxn = 0 \n",
    "\n",
    "for a, b in abcombos: \n",
    "    n = 0      # start with n = 0\n",
    "    while isprime((n+1)**2 + a*(n+1) + b): # while the quadratic expression per one (a,b) tuple produces primes: \n",
    "        # i = n**2 + a*n + b # save the result\n",
    "        n += 1 # increment result counter\n",
    "    if n > maxn: # when the expression produces a non-prime for the first time, check if the previous run \n",
    "        maxn = n     # new n with the most primes per (a,b) tuple\n",
    "        maxab = a, b # new (a,b) tuple \n",
    "\n",
    "print(maxab[0]*maxab[1])"
   ]
  },
  {
   "cell_type": "code",
   "execution_count": null,
   "metadata": {
    "collapsed": true
   },
   "outputs": [],
   "source": []
  },
  {
   "cell_type": "code",
   "execution_count": null,
   "metadata": {
    "collapsed": true
   },
   "outputs": [],
   "source": []
  },
  {
   "cell_type": "code",
   "execution_count": null,
   "metadata": {
    "collapsed": true
   },
   "outputs": [],
   "source": []
  },
  {
   "cell_type": "code",
   "execution_count": null,
   "metadata": {
    "collapsed": true
   },
   "outputs": [],
   "source": []
  },
  {
   "cell_type": "code",
   "execution_count": null,
   "metadata": {
    "collapsed": true
   },
   "outputs": [],
   "source": []
  },
  {
   "cell_type": "code",
   "execution_count": null,
   "metadata": {
    "collapsed": true
   },
   "outputs": [],
   "source": []
  },
  {
   "cell_type": "code",
   "execution_count": null,
   "metadata": {
    "collapsed": true
   },
   "outputs": [],
   "source": []
  },
  {
   "cell_type": "code",
   "execution_count": null,
   "metadata": {
    "collapsed": true
   },
   "outputs": [],
   "source": []
  },
  {
   "cell_type": "code",
   "execution_count": null,
   "metadata": {
    "collapsed": true
   },
   "outputs": [],
   "source": []
  },
  {
   "cell_type": "code",
   "execution_count": null,
   "metadata": {
    "collapsed": true
   },
   "outputs": [],
   "source": []
  },
  {
   "cell_type": "code",
   "execution_count": null,
   "metadata": {
    "collapsed": true
   },
   "outputs": [],
   "source": []
  },
  {
   "cell_type": "code",
   "execution_count": null,
   "metadata": {
    "collapsed": true
   },
   "outputs": [],
   "source": []
  },
  {
   "cell_type": "code",
   "execution_count": null,
   "metadata": {
    "collapsed": true
   },
   "outputs": [],
   "source": []
  },
  {
   "cell_type": "code",
   "execution_count": null,
   "metadata": {
    "collapsed": true
   },
   "outputs": [],
   "source": []
  },
  {
   "cell_type": "code",
   "execution_count": null,
   "metadata": {
    "collapsed": true
   },
   "outputs": [],
   "source": []
  },
  {
   "cell_type": "code",
   "execution_count": null,
   "metadata": {
    "collapsed": true
   },
   "outputs": [],
   "source": []
  },
  {
   "cell_type": "code",
   "execution_count": null,
   "metadata": {
    "collapsed": true
   },
   "outputs": [],
   "source": []
  }
 ],
 "metadata": {
  "kernelspec": {
   "display_name": "Python 3",
   "language": "python",
   "name": "python3"
  },
  "language_info": {
   "codemirror_mode": {
    "name": "ipython",
    "version": 3
   },
   "file_extension": ".py",
   "mimetype": "text/x-python",
   "name": "python",
   "nbconvert_exporter": "python",
   "pygments_lexer": "ipython3",
   "version": "3.5.1"
  }
 },
 "nbformat": 4,
 "nbformat_minor": 0
}
