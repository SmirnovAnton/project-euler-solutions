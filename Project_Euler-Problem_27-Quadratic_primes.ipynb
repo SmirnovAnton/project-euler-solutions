{
 "cells": [
  {
   "cell_type": "code",
   "execution_count": null,
   "metadata": {
    "collapsed": true
   },
   "outputs": [],
   "source": [
    "\"\"\"\n",
    "Euler discovered the remarkable quadratic formula:\n",
    "\n",
    "n² + n + 41\n",
    "\n",
    "It turns out that the formula will produce 40 primes for the consecutive values n = 0 to 39. \n",
    "However, when n = 40, 402 + 40 + 41 = 40(40 + 1) + 41 is divisible by 41, \n",
    "and certainly when n = 41, 41² + 41 + 41 is clearly divisible by 41.\n",
    "\n",
    "The incredible formula  n² − 79n + 1601 was discovered, which produces 80 primes for the \n",
    "consecutive values n = 0 to 79. The product of the coefficients, −79 and 1601, is −126479.\n",
    "\n",
    "Considering quadratics of the form:\n",
    "\n",
    "n² + an + b, where |a| < 1000 and |b| < 1000\n",
    "\n",
    "where |n| is the modulus/absolute value of n\n",
    "e.g. |11| = 11 and |−4| = 4\n",
    "Find the product of the coefficients, a and b, for the quadratic expression that produces the \n",
    "maximum number of primes for consecutive values of n, starting with n = 0.\n",
    "\"\"\""
   ]
  },
  {
   "cell_type": "code",
   "execution_count": 12,
   "metadata": {
    "collapsed": false
   },
   "outputs": [
    {
     "name": "stdout",
     "output_type": "stream",
     "text": [
      "9 9\n",
      "7\n"
     ]
    }
   ],
   "source": [
    "import itertools\n",
    "from sympy.ntheory import isprime\n",
    "\n",
    "limit = 10 \n",
    "\n",
    "abcombos = list(itertools.product(range(-(limit - 1),limit), repeat = 2))\n",
    "\n",
    "n, i = 0, 5\n",
    "\n",
    "maxab = (0,0)\n",
    "maxn = 0 \n",
    "\n",
    "for a, b in abcombos: \n",
    "    n, i = 0, 5 \n",
    "    while isprime(i):\n",
    "        i = n**2 + a*n + b\n",
    "        n += 1\n",
    "    if n > maxn:\n",
    "        maxn = n\n",
    "        maxab = a, b\n",
    "\n",
    "print(a,b)\n",
    "print(maxn)\n",
    "print(9**2 + 9*)"
   ]
  },
  {
   "cell_type": "code",
   "execution_count": null,
   "metadata": {
    "collapsed": true
   },
   "outputs": [],
   "source": []
  },
  {
   "cell_type": "code",
   "execution_count": null,
   "metadata": {
    "collapsed": true
   },
   "outputs": [],
   "source": []
  },
  {
   "cell_type": "code",
   "execution_count": null,
   "metadata": {
    "collapsed": true
   },
   "outputs": [],
   "source": []
  },
  {
   "cell_type": "code",
   "execution_count": null,
   "metadata": {
    "collapsed": true
   },
   "outputs": [],
   "source": []
  },
  {
   "cell_type": "code",
   "execution_count": null,
   "metadata": {
    "collapsed": true
   },
   "outputs": [],
   "source": []
  },
  {
   "cell_type": "code",
   "execution_count": null,
   "metadata": {
    "collapsed": true
   },
   "outputs": [],
   "source": []
  },
  {
   "cell_type": "code",
   "execution_count": null,
   "metadata": {
    "collapsed": true
   },
   "outputs": [],
   "source": []
  },
  {
   "cell_type": "code",
   "execution_count": null,
   "metadata": {
    "collapsed": true
   },
   "outputs": [],
   "source": []
  },
  {
   "cell_type": "code",
   "execution_count": null,
   "metadata": {
    "collapsed": true
   },
   "outputs": [],
   "source": []
  },
  {
   "cell_type": "code",
   "execution_count": null,
   "metadata": {
    "collapsed": true
   },
   "outputs": [],
   "source": []
  },
  {
   "cell_type": "code",
   "execution_count": null,
   "metadata": {
    "collapsed": true
   },
   "outputs": [],
   "source": []
  },
  {
   "cell_type": "code",
   "execution_count": null,
   "metadata": {
    "collapsed": true
   },
   "outputs": [],
   "source": []
  },
  {
   "cell_type": "code",
   "execution_count": null,
   "metadata": {
    "collapsed": true
   },
   "outputs": [],
   "source": []
  },
  {
   "cell_type": "code",
   "execution_count": null,
   "metadata": {
    "collapsed": true
   },
   "outputs": [],
   "source": []
  },
  {
   "cell_type": "code",
   "execution_count": null,
   "metadata": {
    "collapsed": true
   },
   "outputs": [],
   "source": []
  },
  {
   "cell_type": "code",
   "execution_count": null,
   "metadata": {
    "collapsed": true
   },
   "outputs": [],
   "source": []
  },
  {
   "cell_type": "code",
   "execution_count": null,
   "metadata": {
    "collapsed": true
   },
   "outputs": [],
   "source": []
  },
  {
   "cell_type": "code",
   "execution_count": null,
   "metadata": {
    "collapsed": true
   },
   "outputs": [],
   "source": []
  }
 ],
 "metadata": {
  "kernelspec": {
   "display_name": "Python 3",
   "language": "python",
   "name": "python3"
  },
  "language_info": {
   "codemirror_mode": {
    "name": "ipython",
    "version": 3
   },
   "file_extension": ".py",
   "mimetype": "text/x-python",
   "name": "python",
   "nbconvert_exporter": "python",
   "pygments_lexer": "ipython3",
   "version": "3.5.1"
  }
 },
 "nbformat": 4,
 "nbformat_minor": 0
}
