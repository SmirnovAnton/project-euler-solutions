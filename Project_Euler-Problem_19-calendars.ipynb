{
 "cells": [
  {
   "cell_type": "code",
   "execution_count": 54,
   "metadata": {
    "collapsed": false
   },
   "outputs": [],
   "source": [
    "\"\"\"\n",
    "You are given the following information, but you may prefer to do some \n",
    "research for yourself.\n",
    "\n",
    "1 Jan 1900 was a Monday.\n",
    "Thirty days has September,\n",
    "April, June and November.\n",
    "All the rest have thirty-one,\n",
    "Saving February alone,\n",
    "Which has twenty-eight, rain or shine.\n",
    "And on leap years, twenty-nine.\n",
    "\n",
    "A leap year occurs on any year evenly divisible by 4, but not on a \n",
    "century unless it is divisible by 400.\n",
    "How many Sundays fell on the first of the month during the \n",
    "twentieth century (1 Jan 1901 to 31 Dec 2000)?\n",
    "\n",
    "\"\"\"\n",
    "import datetime \n",
    "\n",
    "def howManySundays(syear,smonth,sday,eyear,emonth,eday):\n",
    "    \"\"\"Returns the number of Sundays which fall on the first of a month between start date year,month,day and end\n",
    "    date year,month,day.\"\"\"\n",
    "    start = datetime.date(year=syear,month=smonth,day=sday)\n",
    "    end = datetime.date(year=eyear,month=emonth,day=eday)\n",
    "\n",
    "    s = start.toordinal()\n",
    "    e = end.toordinal()\n",
    "\n",
    "    count = 0\n",
    "\n",
    "    for d in range(s,e+1):\n",
    "        # print(datetime.date.fromordinal(d).weekday(),\" \",datetime.date.fromordinal(d).day)\n",
    "        \n",
    "        if (datetime.date.fromordinal(d).weekday() == 6 and datetime.date.fromordinal(d).day == 1):\n",
    "            count = count+1\n",
    "    return count\n",
    "\n"
   ]
  },
  {
   "cell_type": "code",
   "execution_count": 55,
   "metadata": {
    "collapsed": false
   },
   "outputs": [
    {
     "data": {
      "text/plain": [
       "171"
      ]
     },
     "execution_count": 55,
     "metadata": {},
     "output_type": "execute_result"
    }
   ],
   "source": [
    "howManySundays(1901,1,1,2000,12,31)"
   ]
  }
 ],
 "metadata": {
  "kernelspec": {
   "display_name": "Python 3",
   "language": "python",
   "name": "python3"
  },
  "language_info": {
   "codemirror_mode": {
    "name": "ipython",
    "version": 3
   },
   "file_extension": ".py",
   "mimetype": "text/x-python",
   "name": "python",
   "nbconvert_exporter": "python",
   "pygments_lexer": "ipython3",
   "version": "3.5.1"
  }
 },
 "nbformat": 4,
 "nbformat_minor": 0
}
