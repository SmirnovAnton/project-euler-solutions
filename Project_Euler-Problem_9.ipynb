{
 "cells": [
  {
   "cell_type": "code",
   "execution_count": 16,
   "metadata": {
    "collapsed": false
   },
   "outputs": [
    {
     "name": "stdout",
     "output_type": "stream",
     "text": [
      "200 375 425\n"
     ]
    },
    {
     "data": {
      "text/plain": [
       "[[200, 375, 425]]"
      ]
     },
     "execution_count": 16,
     "metadata": {},
     "output_type": "execute_result"
    }
   ],
   "source": [
    "\"\"\"\n",
    "A Pythagorean triplet is a set of three natural numbers, a < b < c, for which,\n",
    "\n",
    "a^2 + b^2 = c^2\n",
    "For example, 3^2 + 4^2 = 9 + 16 = 25 = 5^2.\n",
    "\n",
    "There exists exactly one Pythagorean triplet for which a + b + c = 1000.\n",
    "Find the product abc.\n",
    "\"\"\"\n",
    "\n",
    "def findPythagoreanTriplet(x):\n",
    "    \"\"\"Returns Pythagorean triplet(s) for limit x.\"\"\"\n",
    "    \n",
    "    #  There's likely a better way with multisets, might look into \n",
    "    # http://code.activestate.com/recipes/218332-generator-for-integer-partitions/ for speed.\n",
    "    \n",
    "    solutions = []\n",
    "    for a in range(1,x+1):\n",
    "        for b in range(a+1,x+1):\n",
    "            for c in range(b+1,x+1):\n",
    "                if((a**2 + b**2 == c**2) & (a + b + c == x)):\n",
    "                    solutions.append([a, b, c])\n",
    "                    print(a, b, c)\n",
    "    return solutions\n",
    "\n",
    "findPythagoreanTriplet(1000)"
   ]
  },
  {
   "cell_type": "code",
   "execution_count": 17,
   "metadata": {
    "collapsed": false
   },
   "outputs": [
    {
     "data": {
      "text/plain": [
       "31875000"
      ]
     },
     "execution_count": 17,
     "metadata": {},
     "output_type": "execute_result"
    }
   ],
   "source": [
    "200*375*425\n"
   ]
  }
 ],
 "metadata": {
  "kernelspec": {
   "display_name": "Python 3",
   "language": "python",
   "name": "python3"
  },
  "language_info": {
   "codemirror_mode": {
    "name": "ipython",
    "version": 3
   },
   "file_extension": ".py",
   "mimetype": "text/x-python",
   "name": "python",
   "nbconvert_exporter": "python",
   "pygments_lexer": "ipython3",
   "version": "3.5.1"
  }
 },
 "nbformat": 4,
 "nbformat_minor": 0
}
