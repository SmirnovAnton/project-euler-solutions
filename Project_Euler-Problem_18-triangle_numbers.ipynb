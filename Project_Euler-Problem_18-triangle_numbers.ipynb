{
 "cells": [
  {
   "cell_type": "code",
   "execution_count": 49,
   "metadata": {
    "collapsed": false
   },
   "outputs": [],
   "source": [
    "\"\"\"\n",
    "   By starting at the top of the triangle below and moving to adjacent\n",
    "   numbers on the row below, the maximum total from top to bottom is 23.\n",
    "\n",
    "                                       3\n",
    "                                      7 4\n",
    "                                     2 4 6\n",
    "                                    8 5 9 3\n",
    "\n",
    "   That is, 3 + 7 + 4 + 9 = 23.\n",
    "\n",
    "   Find the maximum total from top to bottom of the triangle below:\n",
    "\n",
    "                                       75\n",
    "                                     95 64\n",
    "                                    17 47 82\n",
    "                                  18 35 87 10\n",
    "                                 20 04 82 47 65\n",
    "                               19 01 23 75 03 34\n",
    "                              88 02 77 73 07 63 67\n",
    "                            99 65 04 28 06 16 70 92\n",
    "                           41 41 26 56 83 40 80 70 33\n",
    "                         41 48 72 33 47 32 37 16 94 29\n",
    "                        53 71 44 65 25 43 91 52 97 51 14\n",
    "                      70 11 33 28 77 73 17 78 39 68 17 57\n",
    "                     91 71 52 38 17 14 91 43 58 50 27 29 48\n",
    "                   63 66 04 68 89 53 67 30 73 16 69 87 40 31\n",
    "                  04 62 98 27 23 09 70 98 73 93 38 53 60 04 23\n",
    "\"\"\"\n",
    "\n",
    "# Idea: starting from the bottom, compute maximum sum for each row. Well, the first row is actually useless, but \n",
    "# from the second row on, get the maximum for each triangle of three numbers, and then use that. \n",
    "\n",
    "def findTriangleMaxPath(x):\n",
    "    \"Returns maximum from one path in triangle from file x.\"\n",
    "    intLsts = []\n",
    "    with open(x) as f:\n",
    "        for line in f:\n",
    "            int_list = [int(i) for i in line.split()]\n",
    "            intLsts.append(int_list)\n",
    "    # print(intLsts)\n",
    "    # print(len(intLsts))\n",
    "    for i in range(len(intLsts)-1,-1,-1):\n",
    "        # print(i,\" \",intLsts[i])\n",
    "        for j in range(len(intLsts[i]) - 1): # the last comparison happens at the second-to-last element\n",
    "                                             # with the last one, so like 1:2, 2:3,..., n-1:n\n",
    "            # print(intLsts[i][j],intLsts[i][j+1]) \n",
    "            # print(intLsts[i-1][j])\n",
    "            if intLsts[i][j] + intLsts[i-1][j] > intLsts[i][j+1] + intLsts[i-1][j]:\n",
    "                intLsts[i-1][j] = intLsts[i][j] + intLsts[i-1][j]\n",
    "            else:\n",
    "                intLsts[i-1][j] = intLsts[i][j+1] + intLsts[i-1][j]\n",
    "    return intLsts[0][0]"
   ]
  },
  {
   "cell_type": "code",
   "execution_count": 50,
   "metadata": {
    "collapsed": false
   },
   "outputs": [
    {
     "data": {
      "text/plain": [
       "1074"
      ]
     },
     "execution_count": 50,
     "metadata": {},
     "output_type": "execute_result"
    }
   ],
   "source": [
    "findTriangleMaxPath(\"P18_triangle.txt\")\n"
   ]
  }
 ],
 "metadata": {
  "kernelspec": {
   "display_name": "Python 3",
   "language": "python",
   "name": "python3"
  },
  "language_info": {
   "codemirror_mode": {
    "name": "ipython",
    "version": 3
   },
   "file_extension": ".py",
   "mimetype": "text/x-python",
   "name": "python",
   "nbconvert_exporter": "python",
   "pygments_lexer": "ipython3",
   "version": "3.5.1"
  }
 },
 "nbformat": 4,
 "nbformat_minor": 0
}
