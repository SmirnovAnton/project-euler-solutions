{
 "cells": [
  {
   "cell_type": "code",
   "execution_count": null,
   "metadata": {
    "collapsed": true
   },
   "outputs": [],
   "source": [
    "Ctrl-m h show keyboard shortcuts"
   ]
  },
  {
   "cell_type": "code",
   "execution_count": 9,
   "metadata": {
    "collapsed": false
   },
   "outputs": [
    {
     "name": "stdout",
     "output_type": "stream",
     "text": [
      " "
     ]
    }
   ],
   "source": [
    "# Problem 1\n",
    "\n",
    "# x start, y stop, a and b divisors\n",
    "def project_euler_1(x, y, a, b):\n",
    "    from itertools import chain\n",
    "    return sum(set(chain(range(x, y, a), range(x, y, b))))\n",
    "\n",
    "# project_euler_1(0, 1000, 3, 5)\n",
    "    \n",
    "# %timeit project_euler_1(0,1000,3,5)\n",
    "\n",
    "# %prun project_euler_1(0,1000,3,5)"
   ]
  },
  {
   "cell_type": "code",
   "execution_count": 11,
   "metadata": {
    "collapsed": false
   },
   "outputs": [
    {
     "name": "stdout",
     "output_type": "stream",
     "text": [
      " "
     ]
    }
   ],
   "source": [
    "# Problem 2\n",
    "\n",
    "# x upper limit \n",
    "def project_euler_2(x):\n",
    "    fibsum = 0\n",
    "    a = 1\n",
    "    b = 1\n",
    "    \n",
    "    while(a < x):\n",
    "        if a % 2 == 0:\n",
    "            fibsum += a\n",
    "        a, b = b, a + b\n",
    "    return fibsum\n",
    "\n",
    "# project_euler_2(4000000)\n",
    "\n",
    "# %timeit project_euler_2(4000000)\n",
    "\n",
    "# %prun project_euler_2(4000000)"
   ]
  }
 ],
 "metadata": {
  "kernelspec": {
   "display_name": "Python 3",
   "language": "python",
   "name": "python3"
  },
  "language_info": {
   "codemirror_mode": {
    "name": "ipython",
    "version": 3
   },
   "file_extension": ".py",
   "mimetype": "text/x-python",
   "name": "python",
   "nbconvert_exporter": "python",
   "pygments_lexer": "ipython3",
   "version": "3.5.1"
  }
 },
 "nbformat": 4,
 "nbformat_minor": 0
}
