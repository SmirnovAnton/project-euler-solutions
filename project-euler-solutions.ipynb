{
 "cells": [
  {
   "cell_type": "code",
   "execution_count": 16,
   "metadata": {
    "collapsed": false
   },
   "outputs": [
    {
     "name": "stdout",
     "output_type": "stream",
     "text": [
      "The slowest run took 7.75 times longer than the fastest. This could mean that an intermediate result is being cached \n",
      "10000 loops, best of 3: 26.5 µs per loop\n"
     ]
    }
   ],
   "source": [
    "# Problem 1\n",
    "\n",
    "# x start, y stop, a and b divisors\n",
    "def project_euler_1(x, y, a, b):\n",
    "    from itertools import chain\n",
    "    return sum(set(chain(range(x, y, a), range(x, y, b))))\n",
    "\n",
    "    # https://github.com/nayuki/Project-Euler-solutions/blob/master/python/p001.py\n",
    "    # although it seems slower\n",
    "    # sum(x for x in range(1000) if (x % 3 == 0 or x % 5 == 0)) \n",
    "\n",
    "# project_euler_1(0, 1000, 3, 5)\n",
    "    \n",
    "%timeit project_euler_1(0,1000,3,5)\n"
   ]
  },
  {
   "cell_type": "code",
   "execution_count": 22,
   "metadata": {
    "collapsed": false
   },
   "outputs": [
    {
     "name": "stdout",
     "output_type": "stream",
     "text": [
      "100000 loops, best of 3: 4.93 µs per loop\n"
     ]
    }
   ],
   "source": [
    "# Problem 2\n",
    "\n",
    "# x upper limit \n",
    "def project_euler_2(x):\n",
    "    fibsum = 0\n",
    "    a = 1\n",
    "    b = 1\n",
    "    while(a < x):\n",
    "        if a % 2 == 0:\n",
    "            fibsum += c\n",
    "        a, b = b, a + b\n",
    "    return fibsum\n",
    "\n",
    "# project_euler_2(4000000)\n",
    "\n",
    "%timeit project_euler_2(4000000)"
   ]
  },
  {
   "cell_type": "code",
   "execution_count": null,
   "metadata": {
    "collapsed": true
   },
   "outputs": [],
   "source": []
  }
 ],
 "metadata": {
  "kernelspec": {
   "display_name": "Python 3",
   "language": "python",
   "name": "python3"
  },
  "language_info": {
   "codemirror_mode": {
    "name": "ipython",
    "version": 3
   },
   "file_extension": ".py",
   "mimetype": "text/x-python",
   "name": "python",
   "nbconvert_exporter": "python",
   "pygments_lexer": "ipython3",
   "version": "3.5.1"
  }
 },
 "nbformat": 4,
 "nbformat_minor": 0
}
