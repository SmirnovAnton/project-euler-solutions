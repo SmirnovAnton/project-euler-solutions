{
 "cells": [
  {
   "cell_type": "markdown",
   "metadata": {},
   "source": [
    "Coin sums\n",
    "Problem 31 \n",
    "In England the currency is made up of pound, £, and pence, p, and there are eight coins in general circulation:\n",
    "\n",
    "1p, 2p, 5p, 10p, 20p, 50p, £1 (100p) and £2 (200p).\n",
    "It is possible to make £2 in the following way:\n",
    "\n",
    "1×£1 + 1×50p + 2×20p + 1×5p + 1×2p + 3×1p\n",
    "How many different ways can £2 be made using any number of coins?"
   ]
  },
  {
   "cell_type": "markdown",
   "metadata": {},
   "source": [
    "- looks like McNuggets problem\n",
    "- lets take the opportunity to get to know Google ORTools \n",
    "- apparently, this is the fastest solution currently: https://arxiv.org/pdf/1507.02318.pdf \n",
    "- this is also nice https://cs.uwaterloo.ca/~shallit/Talks/frob6.pdf"
   ]
  },
  {
   "cell_type": "code",
   "execution_count": 1,
   "metadata": {
    "collapsed": false
   },
   "outputs": [
    {
     "data": {
      "text/plain": [
       "True"
      ]
     },
     "execution_count": 1,
     "metadata": {},
     "output_type": "execute_result"
    }
   ],
   "source": [
    "from ortools.constraint_solver import pywrapcp\n",
    "\n",
    "slvr = pywrapcp.Solver(\"slvr\")\n",
    "\n",
    "c1, c2, c5, c10, c20, c50, c100, c200 = [1, 2, 5, 10, 20, 50, 100, 200]\n",
    "value = 200\n",
    "\n",
    "#coinsum = slvr.IntVar(0, value, \"coinsum\")\n",
    "v1 = slvr.IntVar(0, (value//c1), \"c1\")\n",
    "v2 = slvr.IntVar(0, (value//c2), \"c2\")\n",
    "v5 = slvr.IntVar(0, (value//c5), \"c5\")\n",
    "v10 = slvr.IntVar(0, (value//c10), \"c10\")\n",
    "v20 = slvr.IntVar(0, (value//c20), \"c20\")\n",
    "v50 = slvr.IntVar(0, (value//c50), \"c50\")\n",
    "v100 = slvr.IntVar(0, (value//c100), \"c100\")\n",
    "v200 = slvr.IntVar(0, (value//c200), \"c200\")\n",
    "\n",
    "slvr.Add(value == (v1 * c1 + v2 * c2 + v5 * c5 + v10 * c10 + v20 * c20 + v50 * c50 + v100 * c100 + v200 * c200))\n",
    "dec = slvr.Phase([v1, v2, v5, v10, v20, v50, v100, v200], slvr.CHOOSE_FIRST_UNBOUND, slvr.ASSIGN_MIN_VALUE)\n",
    "\n",
    "slvr.Solve(dec)\n"
   ]
  },
  {
   "cell_type": "code",
   "execution_count": 2,
   "metadata": {
    "collapsed": false
   },
   "outputs": [
    {
     "name": "stdout",
     "output_type": "stream",
     "text": [
      "73682\n"
     ]
    }
   ],
   "source": [
    "counter =0\n",
    "while slvr.NextSolution():\n",
    "    counter+= 1\n",
    "    # print(v1.Value() * c1 + v2.Value() * c2 + v5.Value() * c5 + v10.Value() * c10 + v20.Value() * c20 + v50.Value() * c50 + v100.Value() * c100 + v200.Value() * c200, \"and\",  v1.Value(), v2.Value(), v5.Value(), v10.Value(), v20.Value(), v50.Value(), v100.Value(), v200.Value())\n",
    "    \n",
    "print(counter)"
   ]
  },
  {
   "cell_type": "code",
   "execution_count": null,
   "metadata": {
    "collapsed": true
   },
   "outputs": [],
   "source": [
    "# Uli's faster solution\n",
    "%%timeit\n",
    "coins = [1, 2, 5, 10, 20, 50, 100, 200]\n",
    "\n",
    "def count(n, m): \n",
    "    if n < 0 or m <= 0:\n",
    "        return 0\n",
    "    elif n == 0:\n",
    "        return 1\n",
    "    return count( n, m - 1 ) + count( n - coins[m-1], m )\n",
    "\n",
    "count(200, len(coins))"
   ]
  },
  {
   "cell_type": "code",
   "execution_count": null,
   "metadata": {
    "collapsed": false
   },
   "outputs": [],
   "source": [
    "# Nayuki's much faster solution\n",
    "%%timeit\n",
    "\n",
    "# ... standard dynamic programming algorithm to solve the subset sum problem over integers.\n",
    "# The order of the coin values does not matter, but the values need to be unique.\n",
    "\n",
    "TOTAL = 200\n",
    "\n",
    "# At the start of each loop iteration, ways[i] is the number of ways to use {any copies\n",
    "# of the all the coin values seen before this iteration} to form an unordered sum of i\n",
    "ways = [1] + [0] * TOTAL\n",
    "for coin in [1, 2, 5, 10, 20, 50, 100, 200]:\n",
    "    for i in range(len(ways) - coin):\n",
    "        ways[i + coin] += ways[i]\n",
    "print(str(ways[-1]))"
   ]
  },
  {
   "cell_type": "code",
   "execution_count": 17,
   "metadata": {
    "collapsed": false
   },
   "outputs": [],
   "source": [
    "# lets play some more\n",
    "\n",
    "from ortools.constraint_solver import pywrapcp\n",
    "\n",
    "sl = pywrapcp.Solver(\"sl\")\n",
    "\n",
    "priceA = 600\n",
    "priceB = 900\n",
    "priceC = 2000\n",
    "priceD = 1500\n",
    "priceE = 1100\n",
    "\n",
    "priceF = 350\n",
    "priceG = 499\n",
    "priceH = 2599\n",
    "priceI = 3200\n",
    "priceJ = 999\n",
    "\n",
    "limit = 20000\n",
    "\n",
    "total = sl.IntVar(0, limit, \"total\")\n",
    "a = sl.IntVar(0, (limit//priceA), \"a\")\n",
    "b = sl.IntVar(0, (limit//priceB), \"b\")\n",
    "c = sl.IntVar(0, (limit//priceC), \"c\")\n",
    "d = sl.IntVar(0, (limit//priceD), \"d\")\n",
    "e = sl.IntVar(0, (limit//priceE), \"e\")\n",
    "\n",
    "# f = sl.IntVar(0, (limit//priceF), \"f\")\n",
    "#g = sl.IntVar(0, (limit//priceG), \"g\")\n",
    "#h = sl.IntVar(0, (limit//priceH), \"h\")\n",
    "#i = sl.IntVar(0, (limit//priceI), \"i\")\n",
    "j = sl.IntVar(0, (limit//priceJ), \"j\")\n",
    "\n",
    "sl.Add(total == (a*priceA \n",
    "                 + b*priceB \n",
    "                 + c*priceC \n",
    "                 + d*priceD \n",
    "                 + e*priceE \n",
    "                 #+ f*priceF \n",
    "                 #+ g*priceG \n",
    "                 #+ h*priceH \n",
    "                 #+ i*priceI \n",
    "                 + j*priceJ))\n",
    "\n",
    "decb = sl.Phase([total, \n",
    "                 a, \n",
    "                 b, \n",
    "                 c, \n",
    "                 d, \n",
    "                 e, \n",
    "                 #f,\n",
    "                 #g, \n",
    "                 #h, \n",
    "                 #i, \n",
    "                 j\n",
    "                ], sl.CHOOSE_FIRST_UNBOUND, sl.ASSIGN_MIN_VALUE)"
   ]
  },
  {
   "cell_type": "code",
   "execution_count": null,
   "metadata": {
    "collapsed": false
   },
   "outputs": [],
   "source": [
    "sl.Solve(decb)\n",
    "\n",
    "nuggets = set(range(limit+1))\n",
    "nonnuggets = set()\n",
    "\n",
    "while sl.NextSolution():\n",
    "    x = total.Value()\n",
    "    nuggets = nuggets - {x}\n",
    "\n",
    "print(nuggets)"
   ]
  },
  {
   "cell_type": "code",
   "execution_count": 19,
   "metadata": {
    "collapsed": true
   },
   "outputs": [],
   "source": [
    "nonnuggets = set(range(limit+1)) - nuggets"
   ]
  },
  {
   "cell_type": "code",
   "execution_count": 20,
   "metadata": {
    "collapsed": false
   },
   "outputs": [
    {
     "data": {
      "image/png": "[encoded data removed]",
      "text/plain": [
       "<matplotlib.figure.Figure at 0xeacce36be0>"
      ]
     },
     "metadata": {},
     "output_type": "display_data"
    }
   ],
   "source": [
    "%matplotlib inline\n",
    "from matplotlib import pyplot as plt\n",
    "plt.gcf().set_size_inches(20,10)\n",
    "X1 = list(nuggets)\n",
    "Y1 = [0]*len(nuggets)\n",
    "X2 = list(nonnuggets)\n",
    "Y2 = [0]*len(nonnuggets)\n",
    "\n",
    "plt.scatter(X1,Y1,color='blue')\n",
    "plt.scatter(X2,Y2,color='red')\n",
    "plt.show()"
   ]
  }
 ],
 "metadata": {
  "kernelspec": {
   "display_name": "Python 3",
   "language": "python",
   "name": "python3"
  },
  "language_info": {
   "codemirror_mode": {
    "name": "ipython",
    "version": 3
   },
   "file_extension": ".py",
   "mimetype": "text/x-python",
   "name": "python",
   "nbconvert_exporter": "python",
   "pygments_lexer": "ipython3",
   "version": "3.6.0"
  }
 },
 "nbformat": 4,
 "nbformat_minor": 2
}
