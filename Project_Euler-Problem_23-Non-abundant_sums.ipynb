{
 "cells": [
  {
   "cell_type": "code",
   "execution_count": null,
   "metadata": {
    "collapsed": false
   },
   "outputs": [],
   "source": [
    "\"\"\"\n",
    "A perfect number is a number for which the sum of its proper divisors is exactly equal to the number. \n",
    "For example, the sum of the proper divisors of 28 would be 1 + 2 + 4 + 7 + 14 = 28, \n",
    "which means that 28 is a perfect number.\n",
    "\n",
    "A number n is called deficient if the sum of its proper divisors is less than n and it \n",
    "is called abundant if this sum exceeds n.\n",
    "\n",
    "As 12 is the smallest abundant number, 1 + 2 + 3 + 4 + 6 = 16, \n",
    "the smallest number that can be written as the sum of two abundant numbers is 24. \n",
    "By mathematical analysis, it can be shown that all integers greater than 28123 \n",
    "can be written as the sum of two abundant numbers. However, this upper limit cannot \n",
    "be reduced any further by analysis even though it is known that the greatest number \n",
    "that cannot be expressed as the sum of two abundant numbers is less than this limit.\n",
    "\n",
    "Find the sum of all the positive integers which cannot be written as the sum of two abundant numbers.\n",
    "\n",
    "\"\"\"\n",
    "\n",
    "# i'm sorry, this code is very bad, but i can't think straight at the moment\n",
    "\n",
    "import itertools\n",
    "\n",
    "def factorsLess(n):\n",
    "    \"\"\"Returns all factors of n that are less than n. (c) agf, steveha and Steinar Lima from SO.\"\"\"\n",
    "    step = 2 if n%2 else 1\n",
    "    a =  set(x for tup in ([i, n//i] \n",
    "                for i in range(1, int(n**0.5)+1, step) if n % i == 0) for x in tup)\n",
    "    a.discard(n)\n",
    "    return a\n",
    "\n",
    "def findAbundantNumsBelow30000():\n",
    "    \"\"\"Returns all abundant numbers below 30000.\"\"\"\n",
    "    nums = []\n",
    "    for i in range(30000):\n",
    "        if sum(factorsLess(i)) > i:\n",
    "            nums.append(i)\n",
    "    return nums\n",
    "            \n",
    "# max(findAbundantNumsBelow30000())\n",
    "\n",
    "abNums = findAbundantNumsBelow30000()\n",
    "sums = itertools.combinations_with_replacement(abNums, 2)\n",
    "calcSums = []\n",
    "\n",
    "for a in sums:\n",
    "    # print(a)\n",
    "    # print(a[1])\n",
    "    calcSums.append(a[0]+a[1])\n",
    "\n",
    "expressableInAbNums = []\n",
    "\n",
    "calcSums"
   ]
  },
  {
   "cell_type": "code",
   "execution_count": null,
   "metadata": {
    "collapsed": false
   },
   "outputs": [],
   "source": [
    "max(calcSums)"
   ]
  },
  {
   "cell_type": "code",
   "execution_count": null,
   "metadata": {
    "collapsed": true
   },
   "outputs": [],
   "source": [
    "s = set(calcSums)"
   ]
  },
  {
   "cell_type": "code",
   "execution_count": null,
   "metadata": {
    "collapsed": true
   },
   "outputs": [],
   "source": [
    "nonexpressable = []\n",
    "\n",
    "for c in range(30000):\n",
    "    if c not in s:\n",
    "        nonexpressable.append(c)"
   ]
  },
  {
   "cell_type": "code",
   "execution_count": null,
   "metadata": {
    "collapsed": false
   },
   "outputs": [],
   "source": [
    "nonexpressable"
   ]
  },
  {
   "cell_type": "code",
   "execution_count": null,
   "metadata": {
    "collapsed": false
   },
   "outputs": [],
   "source": [
    "sum(nonexpressable)"
   ]
  }
 ],
 "metadata": {
  "kernelspec": {
   "display_name": "Python 3",
   "language": "python",
   "name": "python3"
  },
  "language_info": {
   "codemirror_mode": {
    "name": "ipython",
    "version": 3
   },
   "file_extension": ".py",
   "mimetype": "text/x-python",
   "name": "python",
   "nbconvert_exporter": "python",
   "pygments_lexer": "ipython3",
   "version": "3.5.1"
  }
 },
 "nbformat": 4,
 "nbformat_minor": 0
}
