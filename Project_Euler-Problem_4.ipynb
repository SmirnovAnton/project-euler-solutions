{
 "cells": [
  {
   "cell_type": "code",
   "execution_count": 1,
   "metadata": {
    "collapsed": false
   },
   "outputs": [],
   "source": [
    "\"\"\"\n",
    "Problem 4\n",
    "=========\n",
    "\n",
    "\n",
    "   A palindromic number reads the same both ways. The largest palindrome made\n",
    "   from the product of two 2-digit numbers is 9009 = 91 × 99.\n",
    "\n",
    "   Find the largest palindrome made from the product of two 3-digit numbers.\n",
    "\"\"\"\n",
    "\n",
    "import itertools\n",
    "\n",
    "def isPalindrome(x):\n",
    "    \"\"\"Checks if x is a palindrome. Returns true or false.\"\"\"\n",
    "    return str(x) == str(x)[::-1]\n",
    "    \n",
    "    \"\"\"\n",
    "    This is my old solution. I'm sorry. \n",
    "    \n",
    "    a = str(x)\n",
    "    l = len(a)\n",
    "    hl = l/2\n",
    "    i = 0\n",
    "    if l%2 ==0:\n",
    "        # print(\"even\")\n",
    "        while (i < hl):\n",
    "            # print(i)\n",
    "            # print(l-i-1)\n",
    "            if a[i] != a[l-i-1]:\n",
    "                # print(\"not palindrome\")\n",
    "                return(0)\n",
    "                # break\n",
    "            i = i+1\n",
    "        return(1)\n",
    "    else:\n",
    "        # print(\"odd\")\n",
    "        while (i < hl):\n",
    "            # print(i)\n",
    "            # print(l-i-1)\n",
    "            if a[i] != a[l-i-1]:\n",
    "                # print(\"not palindrome\")\n",
    "                return(0)\n",
    "                # break\n",
    "            i = i+1\n",
    "        return(1)\n",
    "    \"\"\"\n",
    "    \n",
    "def findMaxPalindrome(maxNum):\n",
    "    \"\"\"Returns highest palindrome from all possible products of numbers up to maxNum.\"\"\"\n",
    "    combinations = itertools.combinations(range(maxNum),2) # all possible multiplier combinations within range\n",
    "    products = []\n",
    "    for y in combinations:\n",
    "        prod = y[0]*y[1]\n",
    "        if(isPalindrome(prod)):\n",
    "            products.append(prod) # all possible products in range\n",
    "    return(max(products))"
   ]
  },
  {
   "cell_type": "code",
   "execution_count": 2,
   "metadata": {
    "collapsed": false
   },
   "outputs": [
    {
     "data": {
      "text/plain": [
       "906609"
      ]
     },
     "execution_count": 2,
     "metadata": {},
     "output_type": "execute_result"
    }
   ],
   "source": [
    "findMaxPalindrome(999)"
   ]
  },
  {
   "cell_type": "code",
   "execution_count": null,
   "metadata": {
    "collapsed": true
   },
   "outputs": [],
   "source": []
  }
 ],
 "metadata": {
  "kernelspec": {
   "display_name": "Python 3",
   "language": "python",
   "name": "python3"
  },
  "language_info": {
   "codemirror_mode": {
    "name": "ipython",
    "version": 3
   },
   "file_extension": ".py",
   "mimetype": "text/x-python",
   "name": "python",
   "nbconvert_exporter": "python",
   "pygments_lexer": "ipython3",
   "version": "3.5.1"
  }
 },
 "nbformat": 4,
 "nbformat_minor": 0
}
