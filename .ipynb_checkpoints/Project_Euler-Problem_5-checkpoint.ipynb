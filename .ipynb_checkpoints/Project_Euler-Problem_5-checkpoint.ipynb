{
 "cells": [
  {
   "cell_type": "code",
   "execution_count": 8,
   "metadata": {
    "collapsed": false
   },
   "outputs": [],
   "source": [
    "\"\"\"\n",
    "2520 is the smallest number that can be divided by each of the numbers from 1 to 10 without any remainder.\n",
    "\n",
    "What is the smallest positive number that is evenly divisible by all of the numbers from 1 to 20?\n",
    "\"\"\"\n",
    "\n",
    "def findMinDivisibleUpToX(x):\n",
    "    \"\"\"Returns minimum evenly divisible number for all numbers up to x.\"\"\"\n",
    "    \n",
    "    # This appears to be a patheticly weak solution, but it does work. Should probably think it over, though. \n",
    "    # A better way might be to sieve x and then multiply the required numbers, like this: \n",
    "    # 20, 10, 5, 4, 2; 19; 18, 9, 6, 3; 17; 16, 8; 15; 14, 7; 13; 12; 11; 1. \n",
    "    \n",
    "    i = 1\n",
    "    divisors = range(1,x+1)\n",
    "    \n",
    "    while(True):\n",
    "        evenlyDivisable = 1\n",
    "        for d in divisors:\n",
    "            if(i%d != 0):\n",
    "                evenlyDivisable = 0\n",
    "                break\n",
    "        if(evenlyDivisable):\n",
    "            return i\n",
    "        i = i+1"
   ]
  },
  {
   "cell_type": "code",
   "execution_count": 16,
   "metadata": {
    "collapsed": false
   },
   "outputs": [
    {
     "data": {
      "text/plain": [
       "232792560"
      ]
     },
     "execution_count": 16,
     "metadata": {},
     "output_type": "execute_result"
    }
   ],
   "source": [
    "findMinDivisibleUpToX(20)"
   ]
  }
 ],
 "metadata": {
  "kernelspec": {
   "display_name": "Python 3",
   "language": "python",
   "name": "python3"
  },
  "language_info": {
   "codemirror_mode": {
    "name": "ipython",
    "version": 3
   },
   "file_extension": ".py",
   "mimetype": "text/x-python",
   "name": "python",
   "nbconvert_exporter": "python",
   "pygments_lexer": "ipython3",
   "version": "3.5.1"
  }
 },
 "nbformat": 4,
 "nbformat_minor": 0
}
