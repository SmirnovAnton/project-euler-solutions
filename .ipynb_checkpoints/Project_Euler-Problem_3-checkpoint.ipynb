{
 "cells": [
  {
   "cell_type": "code",
   "execution_count": 4,
   "metadata": {
    "collapsed": false
   },
   "outputs": [
    {
     "name": "stdout",
     "output_type": "stream",
     "text": [
      "1000 loops, best of 3: 795 µs per loop\n"
     ]
    }
   ],
   "source": [
    "\"\"\"\n",
    "Problem 3\n",
    "=========\n",
    "\n",
    "\n",
    "   The prime factors of 13195 are 5, 7, 13 and 29.\n",
    "\n",
    "   What is the largest prime factor of the number 600851475143 ?\n",
    "\"\"\"\n",
    "\n",
    "from sympy import *\n",
    "\n",
    "def project_euler_3(x):\n",
    "    \"\"\"Returns the maximum prime factor of x.\"\"\"\n",
    "    return max(factorint(x))\n",
    "\n",
    "%timeit project_euler_3(600851475143)"
   ]
  }
 ],
 "metadata": {
  "kernelspec": {
   "display_name": "Python 3",
   "language": "python",
   "name": "python3"
  },
  "language_info": {
   "codemirror_mode": {
    "name": "ipython",
    "version": 3
   },
   "file_extension": ".py",
   "mimetype": "text/x-python",
   "name": "python",
   "nbconvert_exporter": "python",
   "pygments_lexer": "ipython3",
   "version": "3.5.1"
  }
 },
 "nbformat": 4,
 "nbformat_minor": 0
}
