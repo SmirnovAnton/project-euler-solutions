{
 "cells": [
  {
   "cell_type": "code",
   "execution_count": null,
   "metadata": {
    "collapsed": true
   },
   "outputs": [],
   "source": [
    "'''\n",
    "Surprisingly there are only three numbers that can be written as the sum of fourth powers of their digits:\n",
    "\n",
    "1634 = 1^4 + 6^4 + 3^4 + 4^4\n",
    "8208 = 8^4 + 2^4 + 0^4 + 8^4\n",
    "9474 = 9^4 + 4^4 + 7^4 + 4^4\n",
    "As 1 = 1^4 is not a sum it is not included.\n",
    "\n",
    "The sum of these numbers is 1634 + 8208 + 9474 = 19316.\n",
    "\n",
    "Find the sum of all the numbers that can be written as the sum of fifth powers of their digits.\n",
    "'''"
   ]
  },
  {
   "cell_type": "code",
   "execution_count": 8,
   "metadata": {
    "collapsed": false
   },
   "outputs": [],
   "source": [
    "# find bounds: for example, smallest 5 digit number: 10000\n",
    "# fifth power\n",
    "# sum is 1^5 = 1 \n",
    "# maximum sum is 5 * 9**5\n",
    "# 5 * 9**5\n",
    "# 295245\n",
    "# 6 digits: 100000 \n",
    "# 7 digits: 1 000 000 = 10**(digits - 1)\n",
    "# 7 * 9**5 # (digits) * 9**(power)\n",
    "# 413343\n",
    "# so no seven digit number can be expressed as a sum of the fifth powers of its digits, because the highest possible sum \n",
    "# for 9999999 is less than 7 digits \n",
    "\n",
    "# so lets define a boundary first \n",
    "\n",
    "def findNumsAsPowers(power):\n",
    "    '''Returns a set of numbers which can be expressed as the sum of the power-th power of their digits.'''\n",
    "    \n",
    "    nums = set()\n",
    "    i = 1 # i is the number of digits in our number, which we have to put a limit on\n",
    "    \n",
    "    \n",
    "    while ((10**(i-1)) < (i * (9**power))):\n",
    "        i += 1\n",
    "    \n",
    "    # now use i as a limit \n",
    "    \n",
    "    for j in range(2, (10**(i-1))):\n",
    "        ints = [int(k) for k in str(j)] # split the number into digits\n",
    "        powersum = sum((l**power) for l in ints) # calculate power sum\n",
    "        if powersum == j: # save if digit power sum equals the number \n",
    "            nums.add(j)\n",
    "        \n",
    "    return(nums)"
   ]
  },
  {
   "cell_type": "code",
   "execution_count": 11,
   "metadata": {
    "collapsed": false
   },
   "outputs": [
    {
     "data": {
      "text/plain": [
       "443839"
      ]
     },
     "execution_count": 11,
     "metadata": {},
     "output_type": "execute_result"
    }
   ],
   "source": [
    "sum(findNumsAsPowers(5))"
   ]
  }
 ],
 "metadata": {
  "kernelspec": {
   "display_name": "Python 3",
   "language": "python",
   "name": "python3"
  },
  "language_info": {
   "codemirror_mode": {
    "name": "ipython",
    "version": 3
   },
   "file_extension": ".py",
   "mimetype": "text/x-python",
   "name": "python",
   "nbconvert_exporter": "python",
   "pygments_lexer": "ipython3",
   "version": "3.5.1"
  }
 },
 "nbformat": 4,
 "nbformat_minor": 0
}
