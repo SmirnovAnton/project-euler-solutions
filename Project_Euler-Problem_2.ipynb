{
 "cells": [
  {
   "cell_type": "code",
   "execution_count": 1,
   "metadata": {
    "collapsed": true
   },
   "outputs": [],
   "source": [
    "def project_euler_2(x):\n",
    "    \"\"\"Returns sum of even Fibonacci numbers, sequence limit is x.\"\"\"\n",
    "    fibsum = 0\n",
    "    a = 1\n",
    "    b = 1\n",
    "    \n",
    "    while(a < x):\n",
    "        if a % 2 == 0:\n",
    "            fibsum += a\n",
    "        a, b = b, a + b\n",
    "    return fibsum\n",
    "\n",
    "# project_euler_2(4000000)\n",
    "\n",
    "# %timeit project_euler_2(4000000)\n",
    "\n",
    "# %prun project_euler_2(4000000)"
   ]
  },
  {
   "cell_type": "code",
   "execution_count": null,
   "metadata": {
    "collapsed": true
   },
   "outputs": [],
   "source": []
  }
 ],
 "metadata": {
  "kernelspec": {
   "display_name": "Python 3",
   "language": "python",
   "name": "python3"
  },
  "language_info": {
   "codemirror_mode": {
    "name": "ipython",
    "version": 3
   },
   "file_extension": ".py",
   "mimetype": "text/x-python",
   "name": "python",
   "nbconvert_exporter": "python",
   "pygments_lexer": "ipython3",
   "version": "3.5.1"
  }
 },
 "nbformat": 4,
 "nbformat_minor": 0
}
