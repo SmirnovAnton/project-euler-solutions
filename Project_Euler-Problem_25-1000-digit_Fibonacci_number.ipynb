{
 "cells": [
  {
   "cell_type": "code",
   "execution_count": 3,
   "metadata": {
    "collapsed": false
   },
   "outputs": [
    {
     "name": "stdout",
     "output_type": "stream",
     "text": [
      "4782\n"
     ]
    }
   ],
   "source": [
    "\"\"\"\n",
    "The Fibonacci sequence is defined by the recurrence relation:\n",
    "\n",
    "Fn = F(n−1) + F(n−2), where F(1) = 1 and F(2) = 1.\n",
    "Hence the first 12 terms will be:\n",
    "\n",
    "F1 = 1\n",
    "F2 = 1\n",
    "F3 = 2\n",
    "F4 = 3\n",
    "F5 = 5\n",
    "F6 = 8\n",
    "F7 = 13\n",
    "F8 = 21\n",
    "F9 = 34\n",
    "F10 = 55\n",
    "F11 = 89\n",
    "F12 = 144\n",
    "\n",
    "The 12th term, F12, is the first term to contain three digits.\n",
    "\n",
    "What is the index of the first term in the Fibonacci sequence to contain 1000 digits?\"\"\"\n",
    "\n",
    "\n",
    "def fib_num():\n",
    "    x,y = 1, 1\n",
    "    while True: \n",
    "        z = x+y\n",
    "        yield z\n",
    "        x = y\n",
    "        y = z\n",
    "\n",
    "i = 2\n",
    "for x in fib_num():\n",
    "    i = i+1\n",
    "    if len(str(x)) == 1000:\n",
    "        print(i)\n",
    "        break"
   ]
  },
  {
   "cell_type": "code",
   "execution_count": null,
   "metadata": {
    "collapsed": true
   },
   "outputs": [],
   "source": []
  }
 ],
 "metadata": {
  "kernelspec": {
   "display_name": "Python 3",
   "language": "python",
   "name": "python3"
  },
  "language_info": {
   "codemirror_mode": {
    "name": "ipython",
    "version": 3
   },
   "file_extension": ".py",
   "mimetype": "text/x-python",
   "name": "python",
   "nbconvert_exporter": "python",
   "pygments_lexer": "ipython3",
   "version": "3.5.1"
  }
 },
 "nbformat": 4,
 "nbformat_minor": 0
}
