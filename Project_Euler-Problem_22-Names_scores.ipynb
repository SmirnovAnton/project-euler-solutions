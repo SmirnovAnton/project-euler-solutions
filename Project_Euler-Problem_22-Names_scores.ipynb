{
 "cells": [
  {
   "cell_type": "code",
   "execution_count": 16,
   "metadata": {
    "collapsed": false
   },
   "outputs": [],
   "source": [
    "\"\"\"\n",
    "Using names.txt (right click and 'Save Link/Target As...'), a 46K text file containing over five-thousand first names, \n",
    "begin by sorting it into alphabetical order. Then working out the alphabetical value for each name, multiply this value \n",
    "by its alphabetical position in the list to obtain a name score.\n",
    "\n",
    "For example, when the list is sorted into alphabetical order, COLIN, which is worth 3 + 15 + 12 + 9 + 14 = 53, is the \n",
    "938th name in the list. So, COLIN would obtain a score of 938 × 53 = 49714.\n",
    "\n",
    "What is the total of all the name scores in the file?\n",
    "\"\"\"\n",
    "\n",
    "def alphabeticalNames(x):\n",
    "    \"Returns total of name scores in file x.\"\n",
    "    with open(x) as f:        \n",
    "        scoresum = 0\n",
    "        names = f.read().replace(\"\\\"\",\"\").split(\",\")\n",
    "        values = {chr(i): i - 96 for i in range(ord(\"a\"), ord(\"a\") + 26)}\n",
    "        s = (sorted(names))\n",
    "        for idx, val in enumerate(s):\n",
    "            # print(\"scoresum \",scoresum)\n",
    "            # print(idx,val)\n",
    "            chars = list(val)\n",
    "            namescore = 0\n",
    "            for j in chars:\n",
    "                # print(\"value of \",j,\" \",values[j.lower()])\n",
    "                namescore = namescore + values[j.lower()]\n",
    "                # print(\"namescore \",namescore)\n",
    "            namescore = namescore * (idx+1)\n",
    "            scoresum = scoresum + namescore\n",
    "            # print(\"scoresum \",scoresum)\n",
    "        return scoresum\n",
    "        "
   ]
  },
  {
   "cell_type": "code",
   "execution_count": 17,
   "metadata": {
    "collapsed": false
   },
   "outputs": [
    {
     "data": {
      "text/plain": [
       "871198282"
      ]
     },
     "execution_count": 17,
     "metadata": {},
     "output_type": "execute_result"
    }
   ],
   "source": [
    "alphabeticalNames('p022_names.txt')"
   ]
  }
 ],
 "metadata": {
  "kernelspec": {
   "display_name": "Python 3",
   "language": "python",
   "name": "python3"
  },
  "language_info": {
   "codemirror_mode": {
    "name": "ipython",
    "version": 3
   },
   "file_extension": ".py",
   "mimetype": "text/x-python",
   "name": "python",
   "nbconvert_exporter": "python",
   "pygments_lexer": "ipython3",
   "version": "3.5.1"
  }
 },
 "nbformat": 4,
 "nbformat_minor": 0
}
