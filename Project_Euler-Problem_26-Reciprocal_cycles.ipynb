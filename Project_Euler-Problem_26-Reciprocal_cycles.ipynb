{
 "cells": [
  {
   "cell_type": "code",
   "execution_count": null,
   "metadata": {
    "collapsed": true
   },
   "outputs": [],
   "source": [
    "\"\"\"\n",
    "A unit fraction contains 1 in the numerator. The decimal representation of the unit fractions with denominators 2 to 10 are given:\n",
    "\n",
    "1/2\t= \t0.5\n",
    "1/3\t= \t0.(3)\n",
    "1/4\t= \t0.25\n",
    "1/5\t= \t0.2\n",
    "1/6\t= \t0.1(6)\n",
    "1/7\t= \t0.(142857)\n",
    "1/8\t= \t0.125\n",
    "1/9\t= \t0.(1)\n",
    "1/10\t= \t0.1\n",
    "Where 0.1(6) means 0.166666..., and has a 1-digit recurring cycle. It can be seen that 1/7 has a 6-digit recurring cycle.\n",
    "\n",
    "Find the value of d < 1000 for which 1/d contains the longest recurring cycle in its decimal fraction part.\n",
    "\n",
    "\"\"\""
   ]
  },
  {
   "cell_type": "code",
   "execution_count": null,
   "metadata": {
    "collapsed": false
   },
   "outputs": [],
   "source": [
    "\"\"\"\n",
    "\n",
    "x += 2    x = x + 2\n",
    "x -= 3    x = x - 3\n",
    "(+=, -=, *=, /=, //=, %=, **=, <<=, >>=, &=, ^=, |=)\n",
    "\n",
    "\"\"\""
   ]
  },
  {
   "cell_type": "code",
   "execution_count": 24,
   "metadata": {
    "collapsed": false
   },
   "outputs": [],
   "source": [
    "def findDecimalRepeatingSequence(num, den, searchDepth):\n",
    "    \"\"\"For a fraction num/den, returns the decimal repeating sequence, up to searchDepth in length.\n",
    "    Otherwise returns None. Can be modified to also return the division result.\"\"\"\n",
    "    \n",
    "    reps = []\n",
    "    rep =[]\n",
    "    result = []\n",
    "\n",
    "    resNum = num // den\n",
    "    num = (num-resNum*den)*10\n",
    "    \n",
    "    while len(result) < searchDepth:\n",
    "        resNum = num // den\n",
    "        rep = [num,resNum,den]\n",
    "        if rep not in reps:\n",
    "            result.append(resNum)\n",
    "            reps.append(rep)\n",
    "            num = (num-resNum*den)*10\n",
    "        else:\n",
    "            return result\n",
    "    \n",
    "    return None\n",
    "\n",
    "def maxRepSeqBelowD(d,sD):\n",
    "    \"\"\"Returns maximum repeating decimal sequence for 1/d.\"\"\"\n",
    "    currSeq = []\n",
    "    lenCurrSeq = 0\n",
    "    currI = 0\n",
    "    for i in range(1,d):\n",
    "        seq = findDecimalRepeatingSequence(1,i,sD)\n",
    "        if seq:\n",
    "            seqlen = len(seq)\n",
    "            if seqlen > lenCurrSeq:\n",
    "                currSeq = seq\n",
    "                lenCurrSeq = seqlen\n",
    "                currI = i\n",
    "    return currI"
   ]
  },
  {
   "cell_type": "code",
   "execution_count": 25,
   "metadata": {
    "collapsed": false
   },
   "outputs": [
    {
     "data": {
      "text/plain": [
       "983"
      ]
     },
     "execution_count": 25,
     "metadata": {},
     "output_type": "execute_result"
    }
   ],
   "source": [
    "maxRepSeqBelowD(1000,1000)"
   ]
  },
  {
   "cell_type": "code",
   "execution_count": null,
   "metadata": {
    "collapsed": true
   },
   "outputs": [],
   "source": []
  },
  {
   "cell_type": "code",
   "execution_count": null,
   "metadata": {
    "collapsed": true
   },
   "outputs": [],
   "source": []
  },
  {
   "cell_type": "code",
   "execution_count": null,
   "metadata": {
    "collapsed": true
   },
   "outputs": [],
   "source": []
  },
  {
   "cell_type": "code",
   "execution_count": null,
   "metadata": {
    "collapsed": true
   },
   "outputs": [],
   "source": []
  },
  {
   "cell_type": "code",
   "execution_count": null,
   "metadata": {
    "collapsed": true
   },
   "outputs": [],
   "source": []
  },
  {
   "cell_type": "code",
   "execution_count": null,
   "metadata": {
    "collapsed": true
   },
   "outputs": [],
   "source": []
  },
  {
   "cell_type": "code",
   "execution_count": null,
   "metadata": {
    "collapsed": true
   },
   "outputs": [],
   "source": []
  },
  {
   "cell_type": "code",
   "execution_count": null,
   "metadata": {
    "collapsed": true
   },
   "outputs": [],
   "source": []
  },
  {
   "cell_type": "code",
   "execution_count": null,
   "metadata": {
    "collapsed": true
   },
   "outputs": [],
   "source": []
  },
  {
   "cell_type": "code",
   "execution_count": null,
   "metadata": {
    "collapsed": true
   },
   "outputs": [],
   "source": []
  },
  {
   "cell_type": "code",
   "execution_count": null,
   "metadata": {
    "collapsed": true
   },
   "outputs": [],
   "source": []
  }
 ],
 "metadata": {
  "kernelspec": {
   "display_name": "Python 3",
   "language": "python",
   "name": "python3"
  },
  "language_info": {
   "codemirror_mode": {
    "name": "ipython",
    "version": 3
   },
   "file_extension": ".py",
   "mimetype": "text/x-python",
   "name": "python",
   "nbconvert_exporter": "python",
   "pygments_lexer": "ipython3",
   "version": "3.5.1"
  }
 },
 "nbformat": 4,
 "nbformat_minor": 0
}
