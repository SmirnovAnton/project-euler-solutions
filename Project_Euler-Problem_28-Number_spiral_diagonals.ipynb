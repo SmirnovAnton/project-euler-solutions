{
 "cells": [
  {
   "cell_type": "code",
   "execution_count": null,
   "metadata": {
    "collapsed": true
   },
   "outputs": [],
   "source": [
    "\"\"\"\n",
    "Starting with the number 1 and moving to the right in a clockwise direction a 5 by 5 spiral is formed as follows:\n",
    "\n",
    "21 22 23 24 25\n",
    "20  7  8  9 10\n",
    "19  6  1  2 11\n",
    "18  5  4  3 12\n",
    "17 16 15 14 13\n",
    "\n",
    "It can be verified that the sum of the numbers on the diagonals is 101.\n",
    "\n",
    "What is the sum of the numbers on the diagonals in a 1001 by 1001 spiral formed in the same way?\"\"\""
   ]
  },
  {
   "cell_type": "code",
   "execution_count": 34,
   "metadata": {
    "collapsed": false
   },
   "outputs": [],
   "source": [
    "# Seems to be Ulam's spiral\n",
    "\n",
    "# 1001*1001 = 1002001 is the total number of numbers\n",
    "\n",
    "# need a way to select all numbers on the diagonals\n",
    "# 3.5.7.9...13...17...21...25.....\n",
    "# so jump 1,1,1,1,3,3,3,3,5,5,... and so on, all odd numbers, because each spiral 'arm' adds two rows and two columns"
   ]
  },
  {
   "cell_type": "code",
   "execution_count": 36,
   "metadata": {
    "collapsed": true
   },
   "outputs": [],
   "source": [
    "def spiralSum(maxInt):\n",
    "    '''Returns the sum of diagonal numbers on number spiral up to and including maxInt.'''\n",
    "    diagnums = set()\n",
    "    diagnums.add(1)\n",
    "\n",
    "    jumpcounter = 0 \n",
    "    jumpgoal = 1 \n",
    "    jumpsdone = 0 \n",
    "\n",
    "    for i in range(2,maxInt+1):\n",
    "        if jumpcounter == jumpgoal:\n",
    "            diagnums.add(i)\n",
    "            jumpcounter = 0 \n",
    "            jumpsdone += 1\n",
    "            if jumpsdone == 4:\n",
    "                jumpgoal += 2\n",
    "                jumpsdone = 0 \n",
    "        else:\n",
    "            jumpcounter += 1\n",
    "    return(sum(diagnums))"
   ]
  },
  {
   "cell_type": "code",
   "execution_count": 37,
   "metadata": {
    "collapsed": false
   },
   "outputs": [
    {
     "data": {
      "text/plain": [
       "669171001"
      ]
     },
     "execution_count": 37,
     "metadata": {},
     "output_type": "execute_result"
    }
   ],
   "source": [
    "spiralSum(1002002)"
   ]
  }
 ],
 "metadata": {
  "kernelspec": {
   "display_name": "Python 3",
   "language": "python",
   "name": "python3"
  },
  "language_info": {
   "codemirror_mode": {
    "name": "ipython",
    "version": 3
   },
   "file_extension": ".py",
   "mimetype": "text/x-python",
   "name": "python",
   "nbconvert_exporter": "python",
   "pygments_lexer": "ipython3",
   "version": "3.5.1"
  }
 },
 "nbformat": 4,
 "nbformat_minor": 0
}
