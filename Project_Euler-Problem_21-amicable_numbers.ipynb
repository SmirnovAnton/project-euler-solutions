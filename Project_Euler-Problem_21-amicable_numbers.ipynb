{
 "cells": [
  {
   "cell_type": "code",
   "execution_count": 129,
   "metadata": {
    "collapsed": false
   },
   "outputs": [],
   "source": [
    "\"\"\"\n",
    "Let d(n) be defined as the sum of proper divisors of n (numbers less than n which divide evenly into n).\n",
    "If d(a) = b and d(b) = a, where a ≠ b, then a and b are an amicable pair and each of a and b are called amicable numbers.\n",
    "\n",
    "For example, the proper divisors of 220 are 1, 2, 4, 5, 10, 11, 20, 22, 44, 55 and 110; therefore d(220) = 284. \n",
    "The proper divisors of 284 are 1, 2, 4, 71 and 142; so d(284) = 220.\n",
    "\n",
    "Evaluate the sum of all the amicable numbers under 10000.\n",
    "\"\"\"\n",
    "\n",
    "# import collections\n",
    "\n",
    "def factorsLess(n):\n",
    "    \"\"\"Returns all factors of n that are less than n. (c) agf, steveha and Steinar Lima from SO.\"\"\"\n",
    "    step = 2 if n%2 else 1\n",
    "    a =  set(x for tup in ([i, n//i] \n",
    "                for i in range(1, int(n**0.5)+1, step) if n % i == 0) for x in tup)\n",
    "    a.discard(n)\n",
    "    return a\n",
    "\n",
    "\n",
    "def amicableNumbers(x):\n",
    "    \"\"\"Returns the sum of all amicable numbers under x.\"\"\"\n",
    "    sums = []\n",
    "    ams = []\n",
    "    for i in range(1,x+1):\n",
    "        sums.append(sum(factorsLess(i)))\n",
    "    for j in range(1,x+1):\n",
    "        if sums[j-1] <= x:\n",
    "            # print(j,\" \",sums[j-1],\" \",sums[sums[j-1]-1])\n",
    "            if sums[sums[j-1]-1] == j and sums[j-1] != j: \n",
    "                # print(j,\" \",sums[j-1],\" \",sums[sums[j-1]-1])\n",
    "                if(j not in ams):\n",
    "                    ams.append(j)\n",
    "    return(sum(ams))\n",
    "        "
   ]
  },
  {
   "cell_type": "code",
   "execution_count": 130,
   "metadata": {
    "collapsed": false
   },
   "outputs": [
    {
     "data": {
      "text/plain": [
       "31626"
      ]
     },
     "execution_count": 130,
     "metadata": {},
     "output_type": "execute_result"
    }
   ],
   "source": [
    "amicableNumbers(10000)"
   ]
  }
 ],
 "metadata": {
  "kernelspec": {
   "display_name": "Python 3",
   "language": "python",
   "name": "python3"
  },
  "language_info": {
   "codemirror_mode": {
    "name": "ipython",
    "version": 3
   },
   "file_extension": ".py",
   "mimetype": "text/x-python",
   "name": "python",
   "nbconvert_exporter": "python",
   "pygments_lexer": "ipython3",
   "version": "3.5.1"
  }
 },
 "nbformat": 4,
 "nbformat_minor": 0
}
